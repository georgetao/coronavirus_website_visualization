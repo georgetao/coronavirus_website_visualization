{
 "cells": [
  {
   "cell_type": "code",
   "execution_count": 226,
   "metadata": {},
   "outputs": [
    {
     "data": {
      "text/html": [
       "        <script type=\"text/javascript\">\n",
       "        window.PlotlyConfig = {MathJaxConfig: 'local'};\n",
       "        if (window.MathJax) {MathJax.Hub.Config({SVG: {font: \"STIX-Web\"}});}\n",
       "        if (typeof require !== 'undefined') {\n",
       "        require.undef(\"plotly\");\n",
       "        requirejs.config({\n",
       "            paths: {\n",
       "                'plotly': ['https://cdn.plot.ly/plotly-latest.min']\n",
       "            }\n",
       "        });\n",
       "        require(['plotly'], function(Plotly) {\n",
       "            window._Plotly = Plotly;\n",
       "        });\n",
       "        }\n",
       "        </script>\n",
       "        "
      ]
     },
     "metadata": {},
     "output_type": "display_data"
    }
   ],
   "source": [
    "import pandas as pd\n",
    "import numpy as np\n",
    "\n",
    "import numpy as np # linear algebra\n",
    "import pandas as pd # data processing, CSV file I/O (e.g. pd.read_csv)\n",
    "\n",
    "import io\n",
    "import requests\n",
    "\n",
    "import plotly.offline as py\n",
    "py.init_notebook_mode(connected=True)\n",
    "import plotly.graph_objs as go\n",
    "from plotly import tools\n",
    "import plotly.figure_factory as ff\n",
    "\n",
    "import warnings\n",
    "warnings.filterwarnings('ignore')\n",
    "\n",
    "import matplotlib.pyplot as plt\n",
    "plt.style.use('seaborn-whitegrid')"
   ]
  },
  {
   "cell_type": "code",
   "execution_count": 235,
   "metadata": {},
   "outputs": [],
   "source": [
    "## why can't everyone spell countries the same way\n",
    "\n",
    "data = pd.read_csv(\"docs/data/covid_19_data.csv\")\n",
    "contain = pd.read_csv(\"docs/data/COVID 19 Containment measures data.csv\")\n",
    "countries = pd.read_csv(\"docs/data/countries of the world.csv\")\n",
    "demo = pd.read_csv(\"docs/data/world_demographics.csv\")\n",
    "\n",
    "countries[\"Country\"] = countries[\"Country\"].apply(lambda x: x.rstrip())"
   ]
  },
  {
   "cell_type": "code",
   "execution_count": 236,
   "metadata": {},
   "outputs": [
    {
     "data": {
      "text/html": [
       "<div>\n",
       "<style scoped>\n",
       "    .dataframe tbody tr th:only-of-type {\n",
       "        vertical-align: middle;\n",
       "    }\n",
       "\n",
       "    .dataframe tbody tr th {\n",
       "        vertical-align: top;\n",
       "    }\n",
       "\n",
       "    .dataframe thead th {\n",
       "        text-align: right;\n",
       "    }\n",
       "</style>\n",
       "<table border=\"1\" class=\"dataframe\">\n",
       "  <thead>\n",
       "    <tr style=\"text-align: right;\">\n",
       "      <th></th>\n",
       "      <th>SNo</th>\n",
       "      <th>ObservationDate</th>\n",
       "      <th>Province/State</th>\n",
       "      <th>Country/Region</th>\n",
       "      <th>Last Update</th>\n",
       "      <th>Confirmed</th>\n",
       "      <th>Deaths</th>\n",
       "      <th>Recovered</th>\n",
       "    </tr>\n",
       "  </thead>\n",
       "  <tbody>\n",
       "    <tr>\n",
       "      <th>0</th>\n",
       "      <td>1</td>\n",
       "      <td>01/22/2020</td>\n",
       "      <td>Anhui</td>\n",
       "      <td>Mainland China</td>\n",
       "      <td>1/22/2020 17:00</td>\n",
       "      <td>1.0</td>\n",
       "      <td>0.0</td>\n",
       "      <td>0.0</td>\n",
       "    </tr>\n",
       "    <tr>\n",
       "      <th>1</th>\n",
       "      <td>2</td>\n",
       "      <td>01/22/2020</td>\n",
       "      <td>Beijing</td>\n",
       "      <td>Mainland China</td>\n",
       "      <td>1/22/2020 17:00</td>\n",
       "      <td>14.0</td>\n",
       "      <td>0.0</td>\n",
       "      <td>0.0</td>\n",
       "    </tr>\n",
       "    <tr>\n",
       "      <th>2</th>\n",
       "      <td>3</td>\n",
       "      <td>01/22/2020</td>\n",
       "      <td>Chongqing</td>\n",
       "      <td>Mainland China</td>\n",
       "      <td>1/22/2020 17:00</td>\n",
       "      <td>6.0</td>\n",
       "      <td>0.0</td>\n",
       "      <td>0.0</td>\n",
       "    </tr>\n",
       "    <tr>\n",
       "      <th>3</th>\n",
       "      <td>4</td>\n",
       "      <td>01/22/2020</td>\n",
       "      <td>Fujian</td>\n",
       "      <td>Mainland China</td>\n",
       "      <td>1/22/2020 17:00</td>\n",
       "      <td>1.0</td>\n",
       "      <td>0.0</td>\n",
       "      <td>0.0</td>\n",
       "    </tr>\n",
       "    <tr>\n",
       "      <th>4</th>\n",
       "      <td>5</td>\n",
       "      <td>01/22/2020</td>\n",
       "      <td>Gansu</td>\n",
       "      <td>Mainland China</td>\n",
       "      <td>1/22/2020 17:00</td>\n",
       "      <td>0.0</td>\n",
       "      <td>0.0</td>\n",
       "      <td>0.0</td>\n",
       "    </tr>\n",
       "  </tbody>\n",
       "</table>\n",
       "</div>"
      ],
      "text/plain": [
       "   SNo ObservationDate Province/State  Country/Region      Last Update  \\\n",
       "0    1      01/22/2020          Anhui  Mainland China  1/22/2020 17:00   \n",
       "1    2      01/22/2020        Beijing  Mainland China  1/22/2020 17:00   \n",
       "2    3      01/22/2020      Chongqing  Mainland China  1/22/2020 17:00   \n",
       "3    4      01/22/2020         Fujian  Mainland China  1/22/2020 17:00   \n",
       "4    5      01/22/2020          Gansu  Mainland China  1/22/2020 17:00   \n",
       "\n",
       "   Confirmed  Deaths  Recovered  \n",
       "0        1.0     0.0        0.0  \n",
       "1       14.0     0.0        0.0  \n",
       "2        6.0     0.0        0.0  \n",
       "3        1.0     0.0        0.0  \n",
       "4        0.0     0.0        0.0  "
      ]
     },
     "execution_count": 236,
     "metadata": {},
     "output_type": "execute_result"
    }
   ],
   "source": [
    "data.head()"
   ]
  },
  {
   "cell_type": "code",
   "execution_count": 237,
   "metadata": {},
   "outputs": [
    {
     "data": {
      "text/html": [
       "<div>\n",
       "<style scoped>\n",
       "    .dataframe tbody tr th:only-of-type {\n",
       "        vertical-align: middle;\n",
       "    }\n",
       "\n",
       "    .dataframe tbody tr th {\n",
       "        vertical-align: top;\n",
       "    }\n",
       "\n",
       "    .dataframe thead th {\n",
       "        text-align: right;\n",
       "    }\n",
       "</style>\n",
       "<table border=\"1\" class=\"dataframe\">\n",
       "  <thead>\n",
       "    <tr style=\"text-align: right;\">\n",
       "      <th></th>\n",
       "      <th>ID</th>\n",
       "      <th>Applies To</th>\n",
       "      <th>Country</th>\n",
       "      <th>Date Start</th>\n",
       "      <th>Date end intended</th>\n",
       "      <th>Description of measure implemented</th>\n",
       "      <th>Exceptions</th>\n",
       "      <th>Implementing City</th>\n",
       "      <th>Implementing State/Province</th>\n",
       "      <th>Keywords</th>\n",
       "      <th>Quantity</th>\n",
       "      <th>Source</th>\n",
       "      <th>Target city</th>\n",
       "      <th>Target country</th>\n",
       "      <th>Target region</th>\n",
       "      <th>Target state</th>\n",
       "    </tr>\n",
       "  </thead>\n",
       "  <tbody>\n",
       "    <tr>\n",
       "      <th>0</th>\n",
       "      <td>163</td>\n",
       "      <td>NaN</td>\n",
       "      <td>Austria</td>\n",
       "      <td>Mar 16, 2020</td>\n",
       "      <td>NaN</td>\n",
       "      <td>On 10 March 2020 government announced that all...</td>\n",
       "      <td>NaN</td>\n",
       "      <td>NaN</td>\n",
       "      <td>NaN</td>\n",
       "      <td>university closure</td>\n",
       "      <td>NaN</td>\n",
       "      <td>https://en.wikipedia.org/wiki/2020_coronavirus...</td>\n",
       "      <td>NaN</td>\n",
       "      <td>NaN</td>\n",
       "      <td>NaN</td>\n",
       "      <td>NaN</td>\n",
       "    </tr>\n",
       "    <tr>\n",
       "      <th>1</th>\n",
       "      <td>132</td>\n",
       "      <td>NaN</td>\n",
       "      <td>Germany</td>\n",
       "      <td>Feb 01, 2020</td>\n",
       "      <td>NaN</td>\n",
       "      <td>102 German citizens and 26 relatives, all of w...</td>\n",
       "      <td>NaN</td>\n",
       "      <td>NaN</td>\n",
       "      <td>NaN</td>\n",
       "      <td>international traveller screening, traveller q...</td>\n",
       "      <td>NaN</td>\n",
       "      <td>https://www.tagesschau.de/inland/coronavirus-g...</td>\n",
       "      <td>NaN</td>\n",
       "      <td>NaN</td>\n",
       "      <td>NaN</td>\n",
       "      <td>NaN</td>\n",
       "    </tr>\n",
       "    <tr>\n",
       "      <th>2</th>\n",
       "      <td>578</td>\n",
       "      <td>NaN</td>\n",
       "      <td>United Kingdom</td>\n",
       "      <td>Mar 20, 2020</td>\n",
       "      <td>NaN</td>\n",
       "      <td>All schools, nurseries and colleges closed.</td>\n",
       "      <td>NaN</td>\n",
       "      <td>NaN</td>\n",
       "      <td>NaN</td>\n",
       "      <td>nursery schools closure, school closure, unive...</td>\n",
       "      <td>NaN</td>\n",
       "      <td>https://www.theguardian.com/world/2020/mar/18/...</td>\n",
       "      <td>NaN</td>\n",
       "      <td>NaN</td>\n",
       "      <td>NaN</td>\n",
       "      <td>NaN</td>\n",
       "    </tr>\n",
       "    <tr>\n",
       "      <th>3</th>\n",
       "      <td>372</td>\n",
       "      <td>NaN</td>\n",
       "      <td>United Kingdom</td>\n",
       "      <td>Mar 16, 2020</td>\n",
       "      <td>NaN</td>\n",
       "      <td>If one person in any household has a persisten...</td>\n",
       "      <td>NaN</td>\n",
       "      <td>NaN</td>\n",
       "      <td>NaN</td>\n",
       "      <td>14 days, contact isolation</td>\n",
       "      <td>NaN</td>\n",
       "      <td>https://www.bbc.com/news/uk-51920444</td>\n",
       "      <td>NaN</td>\n",
       "      <td>NaN</td>\n",
       "      <td>NaN</td>\n",
       "      <td>NaN</td>\n",
       "    </tr>\n",
       "    <tr>\n",
       "      <th>4</th>\n",
       "      <td>357</td>\n",
       "      <td>NaN</td>\n",
       "      <td>United Kingdom</td>\n",
       "      <td>Mar 16, 2020</td>\n",
       "      <td>NaN</td>\n",
       "      <td>By the weekend, those with the most serious he...</td>\n",
       "      <td>NaN</td>\n",
       "      <td>NaN</td>\n",
       "      <td>NaN</td>\n",
       "      <td>isolation advice to elderly</td>\n",
       "      <td>NaN</td>\n",
       "      <td>https://www.bbc.com/news/uk-51920444</td>\n",
       "      <td>NaN</td>\n",
       "      <td>NaN</td>\n",
       "      <td>NaN</td>\n",
       "      <td>NaN</td>\n",
       "    </tr>\n",
       "  </tbody>\n",
       "</table>\n",
       "</div>"
      ],
      "text/plain": [
       "    ID Applies To         Country    Date Start Date end intended  \\\n",
       "0  163        NaN         Austria  Mar 16, 2020               NaN   \n",
       "1  132        NaN         Germany  Feb 01, 2020               NaN   \n",
       "2  578        NaN  United Kingdom  Mar 20, 2020               NaN   \n",
       "3  372        NaN  United Kingdom  Mar 16, 2020               NaN   \n",
       "4  357        NaN  United Kingdom  Mar 16, 2020               NaN   \n",
       "\n",
       "                  Description of measure implemented Exceptions  \\\n",
       "0  On 10 March 2020 government announced that all...        NaN   \n",
       "1  102 German citizens and 26 relatives, all of w...        NaN   \n",
       "2        All schools, nurseries and colleges closed.        NaN   \n",
       "3  If one person in any household has a persisten...        NaN   \n",
       "4  By the weekend, those with the most serious he...        NaN   \n",
       "\n",
       "  Implementing City Implementing State/Province  \\\n",
       "0               NaN                         NaN   \n",
       "1               NaN                         NaN   \n",
       "2               NaN                         NaN   \n",
       "3               NaN                         NaN   \n",
       "4               NaN                         NaN   \n",
       "\n",
       "                                            Keywords  Quantity  \\\n",
       "0                                 university closure       NaN   \n",
       "1  international traveller screening, traveller q...       NaN   \n",
       "2  nursery schools closure, school closure, unive...       NaN   \n",
       "3                         14 days, contact isolation       NaN   \n",
       "4                        isolation advice to elderly       NaN   \n",
       "\n",
       "                                              Source  Target city  \\\n",
       "0  https://en.wikipedia.org/wiki/2020_coronavirus...          NaN   \n",
       "1  https://www.tagesschau.de/inland/coronavirus-g...          NaN   \n",
       "2  https://www.theguardian.com/world/2020/mar/18/...          NaN   \n",
       "3               https://www.bbc.com/news/uk-51920444          NaN   \n",
       "4               https://www.bbc.com/news/uk-51920444          NaN   \n",
       "\n",
       "  Target country Target region  Target state  \n",
       "0            NaN           NaN           NaN  \n",
       "1            NaN           NaN           NaN  \n",
       "2            NaN           NaN           NaN  \n",
       "3            NaN           NaN           NaN  \n",
       "4            NaN           NaN           NaN  "
      ]
     },
     "execution_count": 237,
     "metadata": {},
     "output_type": "execute_result"
    }
   ],
   "source": [
    "contain.head()"
   ]
  },
  {
   "cell_type": "code",
   "execution_count": 238,
   "metadata": {},
   "outputs": [
    {
     "data": {
      "text/html": [
       "<div>\n",
       "<style scoped>\n",
       "    .dataframe tbody tr th:only-of-type {\n",
       "        vertical-align: middle;\n",
       "    }\n",
       "\n",
       "    .dataframe tbody tr th {\n",
       "        vertical-align: top;\n",
       "    }\n",
       "\n",
       "    .dataframe thead th {\n",
       "        text-align: right;\n",
       "    }\n",
       "</style>\n",
       "<table border=\"1\" class=\"dataframe\">\n",
       "  <thead>\n",
       "    <tr style=\"text-align: right;\">\n",
       "      <th></th>\n",
       "      <th>Country</th>\n",
       "      <th>Region</th>\n",
       "      <th>Population</th>\n",
       "      <th>Area (sq. mi.)</th>\n",
       "      <th>Pop. Density (per sq. mi.)</th>\n",
       "      <th>Coastline (coast/area ratio)</th>\n",
       "      <th>Net migration</th>\n",
       "      <th>Infant mortality (per 1000 births)</th>\n",
       "      <th>GDP ($ per capita)</th>\n",
       "      <th>Literacy (%)</th>\n",
       "      <th>Phones (per 1000)</th>\n",
       "      <th>Arable (%)</th>\n",
       "      <th>Crops (%)</th>\n",
       "      <th>Other (%)</th>\n",
       "      <th>Climate</th>\n",
       "      <th>Birthrate</th>\n",
       "      <th>Deathrate</th>\n",
       "      <th>Agriculture</th>\n",
       "      <th>Industry</th>\n",
       "      <th>Service</th>\n",
       "    </tr>\n",
       "  </thead>\n",
       "  <tbody>\n",
       "    <tr>\n",
       "      <th>0</th>\n",
       "      <td>Afghanistan</td>\n",
       "      <td>ASIA (EX. NEAR EAST)</td>\n",
       "      <td>31056997</td>\n",
       "      <td>647500</td>\n",
       "      <td>48,0</td>\n",
       "      <td>0,00</td>\n",
       "      <td>23,06</td>\n",
       "      <td>163,07</td>\n",
       "      <td>700.0</td>\n",
       "      <td>36,0</td>\n",
       "      <td>3,2</td>\n",
       "      <td>12,13</td>\n",
       "      <td>0,22</td>\n",
       "      <td>87,65</td>\n",
       "      <td>1</td>\n",
       "      <td>46,6</td>\n",
       "      <td>20,34</td>\n",
       "      <td>0,38</td>\n",
       "      <td>0,24</td>\n",
       "      <td>0,38</td>\n",
       "    </tr>\n",
       "    <tr>\n",
       "      <th>1</th>\n",
       "      <td>Albania</td>\n",
       "      <td>EASTERN EUROPE</td>\n",
       "      <td>3581655</td>\n",
       "      <td>28748</td>\n",
       "      <td>124,6</td>\n",
       "      <td>1,26</td>\n",
       "      <td>-4,93</td>\n",
       "      <td>21,52</td>\n",
       "      <td>4500.0</td>\n",
       "      <td>86,5</td>\n",
       "      <td>71,2</td>\n",
       "      <td>21,09</td>\n",
       "      <td>4,42</td>\n",
       "      <td>74,49</td>\n",
       "      <td>3</td>\n",
       "      <td>15,11</td>\n",
       "      <td>5,22</td>\n",
       "      <td>0,232</td>\n",
       "      <td>0,188</td>\n",
       "      <td>0,579</td>\n",
       "    </tr>\n",
       "    <tr>\n",
       "      <th>2</th>\n",
       "      <td>Algeria</td>\n",
       "      <td>NORTHERN AFRICA</td>\n",
       "      <td>32930091</td>\n",
       "      <td>2381740</td>\n",
       "      <td>13,8</td>\n",
       "      <td>0,04</td>\n",
       "      <td>-0,39</td>\n",
       "      <td>31</td>\n",
       "      <td>6000.0</td>\n",
       "      <td>70,0</td>\n",
       "      <td>78,1</td>\n",
       "      <td>3,22</td>\n",
       "      <td>0,25</td>\n",
       "      <td>96,53</td>\n",
       "      <td>1</td>\n",
       "      <td>17,14</td>\n",
       "      <td>4,61</td>\n",
       "      <td>0,101</td>\n",
       "      <td>0,6</td>\n",
       "      <td>0,298</td>\n",
       "    </tr>\n",
       "    <tr>\n",
       "      <th>3</th>\n",
       "      <td>American Samoa</td>\n",
       "      <td>OCEANIA</td>\n",
       "      <td>57794</td>\n",
       "      <td>199</td>\n",
       "      <td>290,4</td>\n",
       "      <td>58,29</td>\n",
       "      <td>-20,71</td>\n",
       "      <td>9,27</td>\n",
       "      <td>8000.0</td>\n",
       "      <td>97,0</td>\n",
       "      <td>259,5</td>\n",
       "      <td>10</td>\n",
       "      <td>15</td>\n",
       "      <td>75</td>\n",
       "      <td>2</td>\n",
       "      <td>22,46</td>\n",
       "      <td>3,27</td>\n",
       "      <td>NaN</td>\n",
       "      <td>NaN</td>\n",
       "      <td>NaN</td>\n",
       "    </tr>\n",
       "    <tr>\n",
       "      <th>4</th>\n",
       "      <td>Andorra</td>\n",
       "      <td>WESTERN EUROPE</td>\n",
       "      <td>71201</td>\n",
       "      <td>468</td>\n",
       "      <td>152,1</td>\n",
       "      <td>0,00</td>\n",
       "      <td>6,6</td>\n",
       "      <td>4,05</td>\n",
       "      <td>19000.0</td>\n",
       "      <td>100,0</td>\n",
       "      <td>497,2</td>\n",
       "      <td>2,22</td>\n",
       "      <td>0</td>\n",
       "      <td>97,78</td>\n",
       "      <td>3</td>\n",
       "      <td>8,71</td>\n",
       "      <td>6,25</td>\n",
       "      <td>NaN</td>\n",
       "      <td>NaN</td>\n",
       "      <td>NaN</td>\n",
       "    </tr>\n",
       "  </tbody>\n",
       "</table>\n",
       "</div>"
      ],
      "text/plain": [
       "          Country                               Region  Population  \\\n",
       "0     Afghanistan        ASIA (EX. NEAR EAST)             31056997   \n",
       "1         Albania  EASTERN EUROPE                          3581655   \n",
       "2         Algeria  NORTHERN AFRICA                        32930091   \n",
       "3  American Samoa  OCEANIA                                   57794   \n",
       "4         Andorra  WESTERN EUROPE                            71201   \n",
       "\n",
       "   Area (sq. mi.) Pop. Density (per sq. mi.) Coastline (coast/area ratio)  \\\n",
       "0          647500                       48,0                         0,00   \n",
       "1           28748                      124,6                         1,26   \n",
       "2         2381740                       13,8                         0,04   \n",
       "3             199                      290,4                        58,29   \n",
       "4             468                      152,1                         0,00   \n",
       "\n",
       "  Net migration Infant mortality (per 1000 births)  GDP ($ per capita)  \\\n",
       "0         23,06                             163,07               700.0   \n",
       "1         -4,93                              21,52              4500.0   \n",
       "2         -0,39                                 31              6000.0   \n",
       "3        -20,71                               9,27              8000.0   \n",
       "4           6,6                               4,05             19000.0   \n",
       "\n",
       "  Literacy (%) Phones (per 1000) Arable (%) Crops (%) Other (%) Climate  \\\n",
       "0         36,0               3,2      12,13      0,22     87,65       1   \n",
       "1         86,5              71,2      21,09      4,42     74,49       3   \n",
       "2         70,0              78,1       3,22      0,25     96,53       1   \n",
       "3         97,0             259,5         10        15        75       2   \n",
       "4        100,0             497,2       2,22         0     97,78       3   \n",
       "\n",
       "  Birthrate Deathrate Agriculture Industry Service  \n",
       "0      46,6     20,34        0,38     0,24    0,38  \n",
       "1     15,11      5,22       0,232    0,188   0,579  \n",
       "2     17,14      4,61       0,101      0,6   0,298  \n",
       "3     22,46      3,27         NaN      NaN     NaN  \n",
       "4      8,71      6,25         NaN      NaN     NaN  "
      ]
     },
     "execution_count": 238,
     "metadata": {},
     "output_type": "execute_result"
    }
   ],
   "source": [
    "countries.head()"
   ]
  },
  {
   "cell_type": "code",
   "execution_count": 239,
   "metadata": {},
   "outputs": [
    {
     "data": {
      "text/html": [
       "<div>\n",
       "<style scoped>\n",
       "    .dataframe tbody tr th:only-of-type {\n",
       "        vertical-align: middle;\n",
       "    }\n",
       "\n",
       "    .dataframe tbody tr th {\n",
       "        vertical-align: top;\n",
       "    }\n",
       "\n",
       "    .dataframe thead th {\n",
       "        text-align: right;\n",
       "    }\n",
       "</style>\n",
       "<table border=\"1\" class=\"dataframe\">\n",
       "  <thead>\n",
       "    <tr style=\"text-align: right;\">\n",
       "      <th></th>\n",
       "      <th>Country or Area</th>\n",
       "      <th>Year</th>\n",
       "      <th>Area</th>\n",
       "      <th>Sex</th>\n",
       "      <th>Age</th>\n",
       "      <th>Record Type</th>\n",
       "      <th>Reliability</th>\n",
       "      <th>Source Year</th>\n",
       "      <th>Value</th>\n",
       "      <th>Value Footnotes</th>\n",
       "    </tr>\n",
       "  </thead>\n",
       "  <tbody>\n",
       "    <tr>\n",
       "      <th>84054</th>\n",
       "      <td>Åland Islands</td>\n",
       "      <td>2018</td>\n",
       "      <td>Total</td>\n",
       "      <td>Both Sexes</td>\n",
       "      <td>0</td>\n",
       "      <td>Estimate - de jure</td>\n",
       "      <td>Final figure, complete</td>\n",
       "      <td>2019</td>\n",
       "      <td>287.5</td>\n",
       "      <td>1</td>\n",
       "    </tr>\n",
       "    <tr>\n",
       "      <th>84056</th>\n",
       "      <td>Åland Islands</td>\n",
       "      <td>2018</td>\n",
       "      <td>Total</td>\n",
       "      <td>Both Sexes</td>\n",
       "      <td>1</td>\n",
       "      <td>Estimate - de jure</td>\n",
       "      <td>Final figure, complete</td>\n",
       "      <td>2019</td>\n",
       "      <td>302.0</td>\n",
       "      <td>1</td>\n",
       "    </tr>\n",
       "    <tr>\n",
       "      <th>84058</th>\n",
       "      <td>Åland Islands</td>\n",
       "      <td>2018</td>\n",
       "      <td>Total</td>\n",
       "      <td>Both Sexes</td>\n",
       "      <td>2</td>\n",
       "      <td>Estimate - de jure</td>\n",
       "      <td>Final figure, complete</td>\n",
       "      <td>2019</td>\n",
       "      <td>320.0</td>\n",
       "      <td>1</td>\n",
       "    </tr>\n",
       "    <tr>\n",
       "      <th>84059</th>\n",
       "      <td>Åland Islands</td>\n",
       "      <td>2018</td>\n",
       "      <td>Total</td>\n",
       "      <td>Both Sexes</td>\n",
       "      <td>3</td>\n",
       "      <td>Estimate - de jure</td>\n",
       "      <td>Final figure, complete</td>\n",
       "      <td>2019</td>\n",
       "      <td>317.5</td>\n",
       "      <td>1</td>\n",
       "    </tr>\n",
       "    <tr>\n",
       "      <th>84060</th>\n",
       "      <td>Åland Islands</td>\n",
       "      <td>2018</td>\n",
       "      <td>Total</td>\n",
       "      <td>Both Sexes</td>\n",
       "      <td>4</td>\n",
       "      <td>Estimate - de jure</td>\n",
       "      <td>Final figure, complete</td>\n",
       "      <td>2019</td>\n",
       "      <td>330.0</td>\n",
       "      <td>1</td>\n",
       "    </tr>\n",
       "  </tbody>\n",
       "</table>\n",
       "</div>"
      ],
      "text/plain": [
       "      Country or Area  Year   Area         Sex  Age         Record Type  \\\n",
       "84054   Åland Islands  2018  Total  Both Sexes    0  Estimate - de jure   \n",
       "84056   Åland Islands  2018  Total  Both Sexes    1  Estimate - de jure   \n",
       "84058   Åland Islands  2018  Total  Both Sexes    2  Estimate - de jure   \n",
       "84059   Åland Islands  2018  Total  Both Sexes    3  Estimate - de jure   \n",
       "84060   Åland Islands  2018  Total  Both Sexes    4  Estimate - de jure   \n",
       "\n",
       "                  Reliability  Source Year  Value Value Footnotes  \n",
       "84054  Final figure, complete         2019  287.5               1  \n",
       "84056  Final figure, complete         2019  302.0               1  \n",
       "84058  Final figure, complete         2019  320.0               1  \n",
       "84059  Final figure, complete         2019  317.5               1  \n",
       "84060  Final figure, complete         2019  330.0               1  "
      ]
     },
     "execution_count": 239,
     "metadata": {},
     "output_type": "execute_result"
    }
   ],
   "source": [
    "demo.head()\n"
   ]
  },
  {
   "cell_type": "markdown",
   "metadata": {},
   "source": [
    "## Make sure all the countries in containment df matches those in data df\n",
    "\n"
   ]
  },
  {
   "cell_type": "code",
   "execution_count": 294,
   "metadata": {},
   "outputs": [
    {
     "name": "stdout",
     "output_type": "stream",
     "text": [
      "United Kingdom\n",
      "United States\n",
      "Czechia\n",
      "North Korea\n",
      "US: Florida\n",
      "US:N Carolina\n",
      "US: Oregon\n",
      "US: Arizona\n",
      "US:California\n",
      "US:Idaho\n",
      "US: Nevada\n",
      "US:Utah\n",
      "US:Washington\n",
      "US: S Carolina\n",
      "US:Georgia\n",
      "US:Maryland\n",
      "US: Indiana\n",
      "US: Illinois\n",
      "US:Delaware\n",
      "US: Wisconsin\n",
      "US: Virginia\n",
      "US: Michigan\n"
     ]
    }
   ],
   "source": [
    "# yes\n",
    "for count in contain[\"Country\"].unique():\n",
    "    if type(count) == str:\n",
    "        if sum(data[\"Country/Region\"].str.contains(count)) < 1:\n",
    "            print(count)"
   ]
  },
  {
   "cell_type": "code",
   "execution_count": 297,
   "metadata": {},
   "outputs": [],
   "source": [
    "contain[\"Country\"] = contain[\"Country\"].replace(\"United Kingdom\", \"UK\")\n",
    "contain[\"Country\"] = contain[\"Country\"].replace(\"United States\", \"US\")"
   ]
  },
  {
   "cell_type": "code",
   "execution_count": 299,
   "metadata": {},
   "outputs": [],
   "source": [
    "contain.to_csv(\"COVID 19 Containment measures data.csv\")"
   ]
  },
  {
   "cell_type": "markdown",
   "metadata": {},
   "source": [
    "## Make sure all the countries in countries df match those in data df and format numbers correctly"
   ]
  },
  {
   "cell_type": "code",
   "execution_count": 41,
   "metadata": {},
   "outputs": [],
   "source": [
    "# add elements to dictionary\n",
    "\n",
    "def add_to_dict(d, first, second):\n",
    "    d[first] = second\n",
    "    return d\n",
    "\n",
    "# name_change = add_to_dict(name_change, \"Congo (Kinshasa)\", \"Congo, Dem. Rep.\")"
   ]
  },
  {
   "cell_type": "code",
   "execution_count": 143,
   "metadata": {},
   "outputs": [
    {
     "data": {
      "text/plain": [
       "{'Mainland China': 'China',\n",
       " 'US': 'United States',\n",
       " 'South Korea': 'Korea, South',\n",
       " 'Ivory Coast': 'South Africa',\n",
       " 'UK': 'United Kingdom',\n",
       " 'North Macedonia': 'Macedonia',\n",
       " ' Azerbaijan': 'Azerbaijan',\n",
       " 'North Ireland': 'Ireland',\n",
       " 'Bosnia and Herzegovina': 'Bosnia & Herzegovina',\n",
       " 'Republic of Ireland': 'Ireland',\n",
       " 'Congo (Kinshasa)': 'Congo, Dem. Rep.',\n",
       " 'Antigua and Barbuda': 'Antigua & Barbuda',\n",
       " 'Trinidad and Tobago': 'Trinidad & Tobago',\n",
       " 'Eswatini': 'Swaziland',\n",
       " 'Central African Republic': 'Central African Rep.',\n",
       " 'Congo (Brazzaville)': 'Congo, Repub. of the',\n",
       " 'Republic of the Congo': 'Congo, Repub. of the',\n",
       " 'The Bahamas': 'Bahamas, The',\n",
       " 'The Gambia': 'Gambia, The',\n",
       " 'Cabo Verde': 'Cape Verde',\n",
       " 'Timor-Leste': 'East Timor',\n",
       " 'Saint Kitts and Nevis': 'Saint Kitts & Nevis',\n",
       " 'West Bank and Gaza': 'Gaza Strip'}"
      ]
     },
     "execution_count": 143,
     "metadata": {},
     "output_type": "execute_result"
    }
   ],
   "source": [
    "# dictionary of country names that need to be changed in countries\n",
    "name_change"
   ]
  },
  {
   "cell_type": "code",
   "execution_count": 198,
   "metadata": {},
   "outputs": [],
   "source": [
    "# for each country in necessary countries: if it is not already in countries[\"country\"], \n",
    "# update it so it is\n",
    "\n",
    "for c in necessary_countries:\n",
    "    if sum(countries[\"Country\"].str.contains(c)) < 1:\n",
    "        if c in name_change.keys():\n",
    "            old = name_change[c]\n",
    "            new = c\n",
    "            countries[\"Country\"] = countries[\"Country\"].replace(old, new)"
   ]
  },
  {
   "cell_type": "code",
   "execution_count": null,
   "metadata": {},
   "outputs": [],
   "source": [
    "# see how many countries aren't there\n",
    "\n",
    "for d in data[\"Country/Region\"].unique():\n",
    "    if sum(countries[\"Country\"].str.contains(d)) < 1:\n",
    "        print(d)"
   ]
  },
  {
   "cell_type": "code",
   "execution_count": null,
   "metadata": {},
   "outputs": [],
   "source": [
    "def replace_commas(col_name):\n",
    "    countries[col_name] = countries[col_name].apply(lambda x: str(x).replace(\",\", \".\"))"
   ]
  },
  {
   "cell_type": "code",
   "execution_count": null,
   "metadata": {},
   "outputs": [],
   "source": [
    "# need to remove commas and replace with . of these columns\n",
    "\n",
    "to_fix = ['Pop. Density (per sq. mi.)',\n",
    " 'Coastline (coast/area ratio)',\n",
    " 'Net migration',\n",
    " 'Infant mortality (per 1000 births)',\n",
    " 'Literacy (%)',\n",
    " 'Phones (per 1000)',\n",
    " 'Arable (%)',\n",
    " 'Crops (%)',\n",
    " 'Other (%)',\n",
    " 'Birthrate',\n",
    " 'Deathrate',\n",
    " 'Agriculture',\n",
    " 'Industry',\n",
    " 'Service']"
   ]
  },
  {
   "cell_type": "code",
   "execution_count": null,
   "metadata": {},
   "outputs": [],
   "source": [
    "for fix in to_fix:\n",
    "    replace_commas(fix)"
   ]
  },
  {
   "cell_type": "code",
   "execution_count": 201,
   "metadata": {},
   "outputs": [],
   "source": [
    "# save edited df to new csv\n",
    "\n",
    "countries.to_csv(\"fixed_countries.csv\")"
   ]
  },
  {
   "cell_type": "markdown",
   "metadata": {},
   "source": [
    "## Make sure countries in demographics df matches those in data df and find median age"
   ]
  },
  {
   "cell_type": "code",
   "execution_count": 222,
   "metadata": {},
   "outputs": [],
   "source": [
    "country1 = \"Germany\"\n",
    "country2 = \"South Korea\""
   ]
  },
  {
   "cell_type": "code",
   "execution_count": 223,
   "metadata": {},
   "outputs": [],
   "source": [
    "\n",
    "demo[\"Country or Area\"] = demo[\"Country or Area\"].replace(\"Viet Nam\", \"Vietnam\")\n",
    "demo[\"Country or Area\"] = demo[\"Country or Area\"].replace(\"United States of America\", \"US\")\n",
    "demo[\"Country or Area\"] = demo[\"Country or Area\"].replace(\"United Kingdom of Great Britain and Northern Ireland\", \"United Kingdom\")\n",
    "demo[\"Country or Area\"] = demo[\"Country or Area\"].replace(\"Republic of Korea\", \"South Korea\")\n",
    "demo[\"Country or Area\"] = demo[\"Country or Area\"].replace(\"Venezuela (Bolivarian Republic of)\", \"Venezuela\")\n",
    "demo[\"Country or Area\"] = demo[\"Country or Area\"].replace('Iran (Islamic Republic of)', 'Iran')\n",
    "\n",
    "duc = demo[\"Country or Area\"].unique()\n",
    "duc.sort()"
   ]
  },
  {
   "cell_type": "code",
   "execution_count": 224,
   "metadata": {},
   "outputs": [],
   "source": [
    "ma = np.where(demo[\"Country or Area\"] == country1)[0]\n",
    "demo_c1 = demo.iloc[ma,:]\n",
    "max_year = np.where(demo_c1[\"Year\"] == demo_c1[\"Year\"].max())[0]\n",
    "demo_c1 = demo_c1.iloc[max_year]\n",
    "\n",
    "ma = np.where(demo[\"Country or Area\"] == country2)[0]\n",
    "demo_c2 = demo.iloc[ma,:]\n",
    "max_year = np.where(demo_c2[\"Year\"] == demo_c2[\"Year\"].max())[0]\n",
    "demo_c2 = demo_c2.iloc[max_year]\n",
    "\n",
    "ll = list(range(0,120))\n",
    "ll = [str(i) for i in ll]\n",
    "\n",
    "ma = np.where(np.isin(demo_c1[\"Age\"], np.array(ll)))[0]\n",
    "demo_c1 = demo_c1.iloc[ma,:]\n",
    "\n",
    "ma = np.where(np.isin(demo_c2[\"Age\"], np.array(ll)))[0]\n",
    "demo_c2 = demo_c2.iloc[ma,:]"
   ]
  },
  {
   "cell_type": "code",
   "execution_count": 227,
   "metadata": {},
   "outputs": [
    {
     "data": {
      "application/vnd.plotly.v1+json": {
       "config": {
        "linkText": "Export to plot.ly",
        "plotlyServerURL": "https://plot.ly",
        "showLink": false
       },
       "data": [
        {
         "hoverinfo": "x",
         "marker": {
          "color": "powderblue"
         },
         "name": "Germany",
         "orientation": "h",
         "type": "bar",
         "x": [
          -785074,
          -796149,
          -770628,
          -760868,
          -734059,
          -732088,
          -715528,
          -732586,
          -721168,
          -740846,
          -736082,
          -721745,
          -730820,
          -746890,
          -747228,
          -760238,
          -781964,
          -824185,
          -841946,
          -872234,
          -918164,
          -913985,
          -899827,
          -918306,
          -952232,
          -971610,
          -1009672,
          -1105660,
          -1092555,
          -1118583,
          -1094733,
          -1075886,
          -1043548,
          -1036879,
          -1039206,
          -1060221,
          -1051212,
          -1056495,
          -1004728,
          -990554,
          -981486,
          -962843,
          -937518,
          -949657,
          -956853,
          -1035587,
          -1138293,
          -1179668,
          -1265662,
          -1324077,
          -1357827,
          -1392300,
          -1395078,
          -1418449,
          -1404391,
          -1357082,
          -1334645,
          -1286991,
          -1247579,
          -1175219,
          -1144314,
          -1108669,
          -1070337,
          -1045334,
          -1006399,
          -999682,
          -973689,
          -967521,
          -928887,
          -841915,
          -784815,
          -676907,
          -589302,
          -779008,
          -781877,
          -746906,
          -892443,
          -918608,
          -882457,
          -795009,
          -713800,
          -658716,
          -601037,
          -521954,
          -389704,
          -356499,
          -330034,
          -312055,
          -267429,
          -229423,
          -184020,
          -151929,
          -122515,
          -90544,
          -68287,
          -51960,
          -39309,
          -26696,
          -14491,
          -6089,
          -3869,
          -2711,
          -2363,
          -1865,
          -1234,
          -759,
          -500,
          -310,
          -166,
          -124
         ],
         "y": [
          0,
          1,
          2,
          3,
          4,
          5,
          6,
          7,
          8,
          9,
          10,
          11,
          12,
          13,
          14,
          15,
          16,
          17,
          18,
          19,
          20,
          21,
          22,
          23,
          24,
          25,
          26,
          27,
          28,
          29,
          30,
          31,
          32,
          33,
          34,
          35,
          36,
          37,
          38,
          39,
          40,
          41,
          42,
          43,
          44,
          45,
          46,
          47,
          48,
          49,
          50,
          51,
          52,
          53,
          54,
          55,
          56,
          57,
          58,
          59,
          60,
          61,
          62,
          63,
          64,
          65,
          66,
          67,
          68,
          69,
          70,
          71,
          72,
          73,
          74,
          75,
          76,
          77,
          78,
          79,
          80,
          81,
          82,
          83,
          84,
          85,
          86,
          87,
          88,
          89,
          90,
          91,
          92,
          93,
          94,
          95,
          96,
          97,
          98,
          99
         ]
        },
        {
         "hoverinfo": "text",
         "marker": {
          "color": "seagreen"
         },
         "name": "South Korea",
         "orientation": "h",
         "text": [
          -345555,
          -383299,
          -428164,
          -441520,
          -433474,
          -460501,
          -468405,
          -475894,
          -439256,
          -445579,
          -477986,
          -449543,
          -430230,
          -438586,
          -471396,
          -474003,
          -508495,
          -591473,
          -621090,
          -622184,
          -663116,
          -683065,
          -710439,
          -714015,
          -725929,
          -741973,
          -738164,
          -682170,
          -675775,
          -659298,
          -644789,
          -655076,
          -673126,
          -669346,
          -724164,
          -792138,
          -847907,
          -847795,
          -842559,
          -770183,
          -759226,
          -749681,
          -768029,
          -805371,
          -873460,
          -892165,
          -895388,
          -931102,
          -895724,
          -942378,
          -850120,
          -824930,
          -835360,
          -845103,
          -768029,
          -889446,
          -820638,
          -939907,
          -887560,
          -802368,
          -763702,
          -714890,
          -674744,
          -689898,
          -547594,
          -526294,
          -519782,
          -415516,
          -460713,
          -436084,
          -433817,
          -420700,
          -288404,
          -334014,
          -319352,
          -367403,
          -360692,
          -299504,
          -282790,
          -269981,
          -237267,
          -220922,
          -201169,
          -179652,
          -149360,
          -126852,
          -108471,
          -85536,
          -74803,
          -63812,
          -49392,
          -37532,
          -27182,
          -19967,
          -14384,
          -15427,
          -9406,
          -5711,
          -3913,
          -2384
         ],
         "type": "bar",
         "x": [
          345555,
          383299,
          428164,
          441520,
          433474,
          460501,
          468405,
          475894,
          439256,
          445579,
          477986,
          449543,
          430230,
          438586,
          471396,
          474003,
          508495,
          591473,
          621090,
          622184,
          663116,
          683065,
          710439,
          714015,
          725929,
          741973,
          738164,
          682170,
          675775,
          659298,
          644789,
          655076,
          673126,
          669346,
          724164,
          792138,
          847907,
          847795,
          842559,
          770183,
          759226,
          749681,
          768029,
          805371,
          873460,
          892165,
          895388,
          931102,
          895724,
          942378,
          850120,
          824930,
          835360,
          845103,
          768029,
          889446,
          820638,
          939907,
          887560,
          802368,
          763702,
          714890,
          674744,
          689898,
          547594,
          526294,
          519782,
          415516,
          460713,
          436084,
          433817,
          420700,
          288404,
          334014,
          319352,
          367403,
          360692,
          299504,
          282790,
          269981,
          237267,
          220922,
          201169,
          179652,
          149360,
          126852,
          108471,
          85536,
          74803,
          63812,
          49392,
          37532,
          27182,
          19967,
          14384,
          15427,
          9406,
          5711,
          3913,
          2384
         ],
         "y": [
          0,
          1,
          2,
          3,
          4,
          5,
          6,
          7,
          8,
          9,
          10,
          11,
          12,
          13,
          14,
          15,
          16,
          17,
          18,
          19,
          20,
          21,
          22,
          23,
          24,
          25,
          26,
          27,
          28,
          29,
          30,
          31,
          32,
          33,
          34,
          35,
          36,
          37,
          38,
          39,
          40,
          41,
          42,
          43,
          44,
          45,
          46,
          47,
          48,
          49,
          50,
          51,
          52,
          53,
          54,
          55,
          56,
          57,
          58,
          59,
          60,
          61,
          62,
          63,
          64,
          65,
          66,
          67,
          68,
          69,
          70,
          71,
          72,
          73,
          74,
          75,
          76,
          77,
          78,
          79,
          80,
          81,
          82,
          83,
          84,
          85,
          86,
          87,
          88,
          89,
          90,
          91,
          92,
          93,
          94,
          95,
          96,
          97,
          98,
          99
         ]
        }
       ],
       "layout": {
        "bargap": 0.1,
        "barmode": "overlay",
        "template": {
         "data": {
          "bar": [
           {
            "error_x": {
             "color": "#2a3f5f"
            },
            "error_y": {
             "color": "#2a3f5f"
            },
            "marker": {
             "line": {
              "color": "#E5ECF6",
              "width": 0.5
             }
            },
            "type": "bar"
           }
          ],
          "barpolar": [
           {
            "marker": {
             "line": {
              "color": "#E5ECF6",
              "width": 0.5
             }
            },
            "type": "barpolar"
           }
          ],
          "carpet": [
           {
            "aaxis": {
             "endlinecolor": "#2a3f5f",
             "gridcolor": "white",
             "linecolor": "white",
             "minorgridcolor": "white",
             "startlinecolor": "#2a3f5f"
            },
            "baxis": {
             "endlinecolor": "#2a3f5f",
             "gridcolor": "white",
             "linecolor": "white",
             "minorgridcolor": "white",
             "startlinecolor": "#2a3f5f"
            },
            "type": "carpet"
           }
          ],
          "choropleth": [
           {
            "colorbar": {
             "outlinewidth": 0,
             "ticks": ""
            },
            "type": "choropleth"
           }
          ],
          "contour": [
           {
            "colorbar": {
             "outlinewidth": 0,
             "ticks": ""
            },
            "colorscale": [
             [
              0,
              "#0d0887"
             ],
             [
              0.1111111111111111,
              "#46039f"
             ],
             [
              0.2222222222222222,
              "#7201a8"
             ],
             [
              0.3333333333333333,
              "#9c179e"
             ],
             [
              0.4444444444444444,
              "#bd3786"
             ],
             [
              0.5555555555555556,
              "#d8576b"
             ],
             [
              0.6666666666666666,
              "#ed7953"
             ],
             [
              0.7777777777777778,
              "#fb9f3a"
             ],
             [
              0.8888888888888888,
              "#fdca26"
             ],
             [
              1,
              "#f0f921"
             ]
            ],
            "type": "contour"
           }
          ],
          "contourcarpet": [
           {
            "colorbar": {
             "outlinewidth": 0,
             "ticks": ""
            },
            "type": "contourcarpet"
           }
          ],
          "heatmap": [
           {
            "colorbar": {
             "outlinewidth": 0,
             "ticks": ""
            },
            "colorscale": [
             [
              0,
              "#0d0887"
             ],
             [
              0.1111111111111111,
              "#46039f"
             ],
             [
              0.2222222222222222,
              "#7201a8"
             ],
             [
              0.3333333333333333,
              "#9c179e"
             ],
             [
              0.4444444444444444,
              "#bd3786"
             ],
             [
              0.5555555555555556,
              "#d8576b"
             ],
             [
              0.6666666666666666,
              "#ed7953"
             ],
             [
              0.7777777777777778,
              "#fb9f3a"
             ],
             [
              0.8888888888888888,
              "#fdca26"
             ],
             [
              1,
              "#f0f921"
             ]
            ],
            "type": "heatmap"
           }
          ],
          "heatmapgl": [
           {
            "colorbar": {
             "outlinewidth": 0,
             "ticks": ""
            },
            "colorscale": [
             [
              0,
              "#0d0887"
             ],
             [
              0.1111111111111111,
              "#46039f"
             ],
             [
              0.2222222222222222,
              "#7201a8"
             ],
             [
              0.3333333333333333,
              "#9c179e"
             ],
             [
              0.4444444444444444,
              "#bd3786"
             ],
             [
              0.5555555555555556,
              "#d8576b"
             ],
             [
              0.6666666666666666,
              "#ed7953"
             ],
             [
              0.7777777777777778,
              "#fb9f3a"
             ],
             [
              0.8888888888888888,
              "#fdca26"
             ],
             [
              1,
              "#f0f921"
             ]
            ],
            "type": "heatmapgl"
           }
          ],
          "histogram": [
           {
            "marker": {
             "colorbar": {
              "outlinewidth": 0,
              "ticks": ""
             }
            },
            "type": "histogram"
           }
          ],
          "histogram2d": [
           {
            "colorbar": {
             "outlinewidth": 0,
             "ticks": ""
            },
            "colorscale": [
             [
              0,
              "#0d0887"
             ],
             [
              0.1111111111111111,
              "#46039f"
             ],
             [
              0.2222222222222222,
              "#7201a8"
             ],
             [
              0.3333333333333333,
              "#9c179e"
             ],
             [
              0.4444444444444444,
              "#bd3786"
             ],
             [
              0.5555555555555556,
              "#d8576b"
             ],
             [
              0.6666666666666666,
              "#ed7953"
             ],
             [
              0.7777777777777778,
              "#fb9f3a"
             ],
             [
              0.8888888888888888,
              "#fdca26"
             ],
             [
              1,
              "#f0f921"
             ]
            ],
            "type": "histogram2d"
           }
          ],
          "histogram2dcontour": [
           {
            "colorbar": {
             "outlinewidth": 0,
             "ticks": ""
            },
            "colorscale": [
             [
              0,
              "#0d0887"
             ],
             [
              0.1111111111111111,
              "#46039f"
             ],
             [
              0.2222222222222222,
              "#7201a8"
             ],
             [
              0.3333333333333333,
              "#9c179e"
             ],
             [
              0.4444444444444444,
              "#bd3786"
             ],
             [
              0.5555555555555556,
              "#d8576b"
             ],
             [
              0.6666666666666666,
              "#ed7953"
             ],
             [
              0.7777777777777778,
              "#fb9f3a"
             ],
             [
              0.8888888888888888,
              "#fdca26"
             ],
             [
              1,
              "#f0f921"
             ]
            ],
            "type": "histogram2dcontour"
           }
          ],
          "mesh3d": [
           {
            "colorbar": {
             "outlinewidth": 0,
             "ticks": ""
            },
            "type": "mesh3d"
           }
          ],
          "parcoords": [
           {
            "line": {
             "colorbar": {
              "outlinewidth": 0,
              "ticks": ""
             }
            },
            "type": "parcoords"
           }
          ],
          "pie": [
           {
            "automargin": true,
            "type": "pie"
           }
          ],
          "scatter": [
           {
            "marker": {
             "colorbar": {
              "outlinewidth": 0,
              "ticks": ""
             }
            },
            "type": "scatter"
           }
          ],
          "scatter3d": [
           {
            "line": {
             "colorbar": {
              "outlinewidth": 0,
              "ticks": ""
             }
            },
            "marker": {
             "colorbar": {
              "outlinewidth": 0,
              "ticks": ""
             }
            },
            "type": "scatter3d"
           }
          ],
          "scattercarpet": [
           {
            "marker": {
             "colorbar": {
              "outlinewidth": 0,
              "ticks": ""
             }
            },
            "type": "scattercarpet"
           }
          ],
          "scattergeo": [
           {
            "marker": {
             "colorbar": {
              "outlinewidth": 0,
              "ticks": ""
             }
            },
            "type": "scattergeo"
           }
          ],
          "scattergl": [
           {
            "marker": {
             "colorbar": {
              "outlinewidth": 0,
              "ticks": ""
             }
            },
            "type": "scattergl"
           }
          ],
          "scattermapbox": [
           {
            "marker": {
             "colorbar": {
              "outlinewidth": 0,
              "ticks": ""
             }
            },
            "type": "scattermapbox"
           }
          ],
          "scatterpolar": [
           {
            "marker": {
             "colorbar": {
              "outlinewidth": 0,
              "ticks": ""
             }
            },
            "type": "scatterpolar"
           }
          ],
          "scatterpolargl": [
           {
            "marker": {
             "colorbar": {
              "outlinewidth": 0,
              "ticks": ""
             }
            },
            "type": "scatterpolargl"
           }
          ],
          "scatterternary": [
           {
            "marker": {
             "colorbar": {
              "outlinewidth": 0,
              "ticks": ""
             }
            },
            "type": "scatterternary"
           }
          ],
          "surface": [
           {
            "colorbar": {
             "outlinewidth": 0,
             "ticks": ""
            },
            "colorscale": [
             [
              0,
              "#0d0887"
             ],
             [
              0.1111111111111111,
              "#46039f"
             ],
             [
              0.2222222222222222,
              "#7201a8"
             ],
             [
              0.3333333333333333,
              "#9c179e"
             ],
             [
              0.4444444444444444,
              "#bd3786"
             ],
             [
              0.5555555555555556,
              "#d8576b"
             ],
             [
              0.6666666666666666,
              "#ed7953"
             ],
             [
              0.7777777777777778,
              "#fb9f3a"
             ],
             [
              0.8888888888888888,
              "#fdca26"
             ],
             [
              1,
              "#f0f921"
             ]
            ],
            "type": "surface"
           }
          ],
          "table": [
           {
            "cells": {
             "fill": {
              "color": "#EBF0F8"
             },
             "line": {
              "color": "white"
             }
            },
            "header": {
             "fill": {
              "color": "#C8D4E3"
             },
             "line": {
              "color": "white"
             }
            },
            "type": "table"
           }
          ]
         },
         "layout": {
          "annotationdefaults": {
           "arrowcolor": "#2a3f5f",
           "arrowhead": 0,
           "arrowwidth": 1
          },
          "coloraxis": {
           "colorbar": {
            "outlinewidth": 0,
            "ticks": ""
           }
          },
          "colorscale": {
           "diverging": [
            [
             0,
             "#8e0152"
            ],
            [
             0.1,
             "#c51b7d"
            ],
            [
             0.2,
             "#de77ae"
            ],
            [
             0.3,
             "#f1b6da"
            ],
            [
             0.4,
             "#fde0ef"
            ],
            [
             0.5,
             "#f7f7f7"
            ],
            [
             0.6,
             "#e6f5d0"
            ],
            [
             0.7,
             "#b8e186"
            ],
            [
             0.8,
             "#7fbc41"
            ],
            [
             0.9,
             "#4d9221"
            ],
            [
             1,
             "#276419"
            ]
           ],
           "sequential": [
            [
             0,
             "#0d0887"
            ],
            [
             0.1111111111111111,
             "#46039f"
            ],
            [
             0.2222222222222222,
             "#7201a8"
            ],
            [
             0.3333333333333333,
             "#9c179e"
            ],
            [
             0.4444444444444444,
             "#bd3786"
            ],
            [
             0.5555555555555556,
             "#d8576b"
            ],
            [
             0.6666666666666666,
             "#ed7953"
            ],
            [
             0.7777777777777778,
             "#fb9f3a"
            ],
            [
             0.8888888888888888,
             "#fdca26"
            ],
            [
             1,
             "#f0f921"
            ]
           ],
           "sequentialminus": [
            [
             0,
             "#0d0887"
            ],
            [
             0.1111111111111111,
             "#46039f"
            ],
            [
             0.2222222222222222,
             "#7201a8"
            ],
            [
             0.3333333333333333,
             "#9c179e"
            ],
            [
             0.4444444444444444,
             "#bd3786"
            ],
            [
             0.5555555555555556,
             "#d8576b"
            ],
            [
             0.6666666666666666,
             "#ed7953"
            ],
            [
             0.7777777777777778,
             "#fb9f3a"
            ],
            [
             0.8888888888888888,
             "#fdca26"
            ],
            [
             1,
             "#f0f921"
            ]
           ]
          },
          "colorway": [
           "#636efa",
           "#EF553B",
           "#00cc96",
           "#ab63fa",
           "#FFA15A",
           "#19d3f3",
           "#FF6692",
           "#B6E880",
           "#FF97FF",
           "#FECB52"
          ],
          "font": {
           "color": "#2a3f5f"
          },
          "geo": {
           "bgcolor": "white",
           "lakecolor": "white",
           "landcolor": "#E5ECF6",
           "showlakes": true,
           "showland": true,
           "subunitcolor": "white"
          },
          "hoverlabel": {
           "align": "left"
          },
          "hovermode": "closest",
          "mapbox": {
           "style": "light"
          },
          "paper_bgcolor": "white",
          "plot_bgcolor": "#E5ECF6",
          "polar": {
           "angularaxis": {
            "gridcolor": "white",
            "linecolor": "white",
            "ticks": ""
           },
           "bgcolor": "#E5ECF6",
           "radialaxis": {
            "gridcolor": "white",
            "linecolor": "white",
            "ticks": ""
           }
          },
          "scene": {
           "xaxis": {
            "backgroundcolor": "#E5ECF6",
            "gridcolor": "white",
            "gridwidth": 2,
            "linecolor": "white",
            "showbackground": true,
            "ticks": "",
            "zerolinecolor": "white"
           },
           "yaxis": {
            "backgroundcolor": "#E5ECF6",
            "gridcolor": "white",
            "gridwidth": 2,
            "linecolor": "white",
            "showbackground": true,
            "ticks": "",
            "zerolinecolor": "white"
           },
           "zaxis": {
            "backgroundcolor": "#E5ECF6",
            "gridcolor": "white",
            "gridwidth": 2,
            "linecolor": "white",
            "showbackground": true,
            "ticks": "",
            "zerolinecolor": "white"
           }
          },
          "shapedefaults": {
           "line": {
            "color": "#2a3f5f"
           }
          },
          "ternary": {
           "aaxis": {
            "gridcolor": "white",
            "linecolor": "white",
            "ticks": ""
           },
           "baxis": {
            "gridcolor": "white",
            "linecolor": "white",
            "ticks": ""
           },
           "bgcolor": "#E5ECF6",
           "caxis": {
            "gridcolor": "white",
            "linecolor": "white",
            "ticks": ""
           }
          },
          "title": {
           "x": 0.05
          },
          "xaxis": {
           "automargin": true,
           "gridcolor": "white",
           "linecolor": "white",
           "ticks": "",
           "title": {
            "standoff": 15
           },
           "zerolinecolor": "white",
           "zerolinewidth": 2
          },
          "yaxis": {
           "automargin": true,
           "gridcolor": "white",
           "linecolor": "white",
           "ticks": "",
           "title": {
            "standoff": 15
           },
           "zerolinecolor": "white",
           "zerolinewidth": 2
          }
         }
        },
        "xaxis": {
         "range": [
          null,
          null
         ],
         "ticktext": [
          "1M",
          "0.5M",
          "0",
          "0.5M",
          "1M"
         ],
         "tickvals": [
          -1000000,
          -500000,
          0,
          500000,
          1000000
         ],
         "title": {
          "text": "Number"
         }
        },
        "yaxis": {
         "title": {
          "text": "Age"
         }
        }
       }
      },
      "text/html": [
       "<div>\n",
       "        \n",
       "        \n",
       "            <div id=\"93dde555-968e-4302-955e-361cad6c5944\" class=\"plotly-graph-div\" style=\"height:525px; width:100%;\"></div>\n",
       "            <script type=\"text/javascript\">\n",
       "                require([\"plotly\"], function(Plotly) {\n",
       "                    window.PLOTLYENV=window.PLOTLYENV || {};\n",
       "                    \n",
       "                if (document.getElementById(\"93dde555-968e-4302-955e-361cad6c5944\")) {\n",
       "                    Plotly.newPlot(\n",
       "                        '93dde555-968e-4302-955e-361cad6c5944',\n",
       "                        [{\"hoverinfo\": \"x\", \"marker\": {\"color\": \"powderblue\"}, \"name\": \"Germany\", \"orientation\": \"h\", \"type\": \"bar\", \"x\": [-785074.0, -796149.0, -770628.0, -760868.0, -734059.0, -732088.0, -715528.0, -732586.0, -721168.0, -740846.0, -736082.0, -721745.0, -730820.0, -746890.0, -747228.0, -760238.0, -781964.0, -824185.0, -841946.0, -872234.0, -918164.0, -913985.0, -899827.0, -918306.0, -952232.0, -971610.0, -1009672.0, -1105660.0, -1092555.0, -1118583.0, -1094733.0, -1075886.0, -1043548.0, -1036879.0, -1039206.0, -1060221.0, -1051212.0, -1056495.0, -1004728.0, -990554.0, -981486.0, -962843.0, -937518.0, -949657.0, -956853.0, -1035587.0, -1138293.0, -1179668.0, -1265662.0, -1324077.0, -1357827.0, -1392300.0, -1395078.0, -1418449.0, -1404391.0, -1357082.0, -1334645.0, -1286991.0, -1247579.0, -1175219.0, -1144314.0, -1108669.0, -1070337.0, -1045334.0, -1006399.0, -999682.0, -973689.0, -967521.0, -928887.0, -841915.0, -784815.0, -676907.0, -589302.0, -779008.0, -781877.0, -746906.0, -892443.0, -918608.0, -882457.0, -795009.0, -713800.0, -658716.0, -601037.0, -521954.0, -389704.0, -356499.0, -330034.0, -312055.0, -267429.0, -229423.0, -184020.0, -151929.0, -122515.0, -90544.0, -68287.0, -51960.0, -39309.0, -26696.0, -14491.0, -6089.0, -3869.0, -2711.0, -2363.0, -1865.0, -1234.0, -759.0, -500.0, -310.0, -166.0, -124.0], \"y\": [0, 1, 2, 3, 4, 5, 6, 7, 8, 9, 10, 11, 12, 13, 14, 15, 16, 17, 18, 19, 20, 21, 22, 23, 24, 25, 26, 27, 28, 29, 30, 31, 32, 33, 34, 35, 36, 37, 38, 39, 40, 41, 42, 43, 44, 45, 46, 47, 48, 49, 50, 51, 52, 53, 54, 55, 56, 57, 58, 59, 60, 61, 62, 63, 64, 65, 66, 67, 68, 69, 70, 71, 72, 73, 74, 75, 76, 77, 78, 79, 80, 81, 82, 83, 84, 85, 86, 87, 88, 89, 90, 91, 92, 93, 94, 95, 96, 97, 98, 99]}, {\"hoverinfo\": \"text\", \"marker\": {\"color\": \"seagreen\"}, \"name\": \"South Korea\", \"orientation\": \"h\", \"text\": [-345555.0, -383299.0, -428164.0, -441520.0, -433474.0, -460501.0, -468405.0, -475894.0, -439256.0, -445579.0, -477986.0, -449543.0, -430230.0, -438586.0, -471396.0, -474003.0, -508495.0, -591473.0, -621090.0, -622184.0, -663116.0, -683065.0, -710439.0, -714015.0, -725929.0, -741973.0, -738164.0, -682170.0, -675775.0, -659298.0, -644789.0, -655076.0, -673126.0, -669346.0, -724164.0, -792138.0, -847907.0, -847795.0, -842559.0, -770183.0, -759226.0, -749681.0, -768029.0, -805371.0, -873460.0, -892165.0, -895388.0, -931102.0, -895724.0, -942378.0, -850120.0, -824930.0, -835360.0, -845103.0, -768029.0, -889446.0, -820638.0, -939907.0, -887560.0, -802368.0, -763702.0, -714890.0, -674744.0, -689898.0, -547594.0, -526294.0, -519782.0, -415516.0, -460713.0, -436084.0, -433817.0, -420700.0, -288404.0, -334014.0, -319352.0, -367403.0, -360692.0, -299504.0, -282790.0, -269981.0, -237267.0, -220922.0, -201169.0, -179652.0, -149360.0, -126852.0, -108471.0, -85536.0, -74803.0, -63812.0, -49392.0, -37532.0, -27182.0, -19967.0, -14384.0, -15427.0, -9406.0, -5711.0, -3913.0, -2384.0], \"type\": \"bar\", \"x\": [345555.0, 383299.0, 428164.0, 441520.0, 433474.0, 460501.0, 468405.0, 475894.0, 439256.0, 445579.0, 477986.0, 449543.0, 430230.0, 438586.0, 471396.0, 474003.0, 508495.0, 591473.0, 621090.0, 622184.0, 663116.0, 683065.0, 710439.0, 714015.0, 725929.0, 741973.0, 738164.0, 682170.0, 675775.0, 659298.0, 644789.0, 655076.0, 673126.0, 669346.0, 724164.0, 792138.0, 847907.0, 847795.0, 842559.0, 770183.0, 759226.0, 749681.0, 768029.0, 805371.0, 873460.0, 892165.0, 895388.0, 931102.0, 895724.0, 942378.0, 850120.0, 824930.0, 835360.0, 845103.0, 768029.0, 889446.0, 820638.0, 939907.0, 887560.0, 802368.0, 763702.0, 714890.0, 674744.0, 689898.0, 547594.0, 526294.0, 519782.0, 415516.0, 460713.0, 436084.0, 433817.0, 420700.0, 288404.0, 334014.0, 319352.0, 367403.0, 360692.0, 299504.0, 282790.0, 269981.0, 237267.0, 220922.0, 201169.0, 179652.0, 149360.0, 126852.0, 108471.0, 85536.0, 74803.0, 63812.0, 49392.0, 37532.0, 27182.0, 19967.0, 14384.0, 15427.0, 9406.0, 5711.0, 3913.0, 2384.0], \"y\": [0, 1, 2, 3, 4, 5, 6, 7, 8, 9, 10, 11, 12, 13, 14, 15, 16, 17, 18, 19, 20, 21, 22, 23, 24, 25, 26, 27, 28, 29, 30, 31, 32, 33, 34, 35, 36, 37, 38, 39, 40, 41, 42, 43, 44, 45, 46, 47, 48, 49, 50, 51, 52, 53, 54, 55, 56, 57, 58, 59, 60, 61, 62, 63, 64, 65, 66, 67, 68, 69, 70, 71, 72, 73, 74, 75, 76, 77, 78, 79, 80, 81, 82, 83, 84, 85, 86, 87, 88, 89, 90, 91, 92, 93, 94, 95, 96, 97, 98, 99]}],\n",
       "                        {\"bargap\": 0.1, \"barmode\": \"overlay\", \"template\": {\"data\": {\"bar\": [{\"error_x\": {\"color\": \"#2a3f5f\"}, \"error_y\": {\"color\": \"#2a3f5f\"}, \"marker\": {\"line\": {\"color\": \"#E5ECF6\", \"width\": 0.5}}, \"type\": \"bar\"}], \"barpolar\": [{\"marker\": {\"line\": {\"color\": \"#E5ECF6\", \"width\": 0.5}}, \"type\": \"barpolar\"}], \"carpet\": [{\"aaxis\": {\"endlinecolor\": \"#2a3f5f\", \"gridcolor\": \"white\", \"linecolor\": \"white\", \"minorgridcolor\": \"white\", \"startlinecolor\": \"#2a3f5f\"}, \"baxis\": {\"endlinecolor\": \"#2a3f5f\", \"gridcolor\": \"white\", \"linecolor\": \"white\", \"minorgridcolor\": \"white\", \"startlinecolor\": \"#2a3f5f\"}, \"type\": \"carpet\"}], \"choropleth\": [{\"colorbar\": {\"outlinewidth\": 0, \"ticks\": \"\"}, \"type\": \"choropleth\"}], \"contour\": [{\"colorbar\": {\"outlinewidth\": 0, \"ticks\": \"\"}, \"colorscale\": [[0.0, \"#0d0887\"], [0.1111111111111111, \"#46039f\"], [0.2222222222222222, \"#7201a8\"], [0.3333333333333333, \"#9c179e\"], [0.4444444444444444, \"#bd3786\"], [0.5555555555555556, \"#d8576b\"], [0.6666666666666666, \"#ed7953\"], [0.7777777777777778, \"#fb9f3a\"], [0.8888888888888888, \"#fdca26\"], [1.0, \"#f0f921\"]], \"type\": \"contour\"}], \"contourcarpet\": [{\"colorbar\": {\"outlinewidth\": 0, \"ticks\": \"\"}, \"type\": \"contourcarpet\"}], \"heatmap\": [{\"colorbar\": {\"outlinewidth\": 0, \"ticks\": \"\"}, \"colorscale\": [[0.0, \"#0d0887\"], [0.1111111111111111, \"#46039f\"], [0.2222222222222222, \"#7201a8\"], [0.3333333333333333, \"#9c179e\"], [0.4444444444444444, \"#bd3786\"], [0.5555555555555556, \"#d8576b\"], [0.6666666666666666, \"#ed7953\"], [0.7777777777777778, \"#fb9f3a\"], [0.8888888888888888, \"#fdca26\"], [1.0, \"#f0f921\"]], \"type\": \"heatmap\"}], \"heatmapgl\": [{\"colorbar\": {\"outlinewidth\": 0, \"ticks\": \"\"}, \"colorscale\": [[0.0, \"#0d0887\"], [0.1111111111111111, \"#46039f\"], [0.2222222222222222, \"#7201a8\"], [0.3333333333333333, \"#9c179e\"], [0.4444444444444444, \"#bd3786\"], [0.5555555555555556, \"#d8576b\"], [0.6666666666666666, \"#ed7953\"], [0.7777777777777778, \"#fb9f3a\"], [0.8888888888888888, \"#fdca26\"], [1.0, \"#f0f921\"]], \"type\": \"heatmapgl\"}], \"histogram\": [{\"marker\": {\"colorbar\": {\"outlinewidth\": 0, \"ticks\": \"\"}}, \"type\": \"histogram\"}], \"histogram2d\": [{\"colorbar\": {\"outlinewidth\": 0, \"ticks\": \"\"}, \"colorscale\": [[0.0, \"#0d0887\"], [0.1111111111111111, \"#46039f\"], [0.2222222222222222, \"#7201a8\"], [0.3333333333333333, \"#9c179e\"], [0.4444444444444444, \"#bd3786\"], [0.5555555555555556, \"#d8576b\"], [0.6666666666666666, \"#ed7953\"], [0.7777777777777778, \"#fb9f3a\"], [0.8888888888888888, \"#fdca26\"], [1.0, \"#f0f921\"]], \"type\": \"histogram2d\"}], \"histogram2dcontour\": [{\"colorbar\": {\"outlinewidth\": 0, \"ticks\": \"\"}, \"colorscale\": [[0.0, \"#0d0887\"], [0.1111111111111111, \"#46039f\"], [0.2222222222222222, \"#7201a8\"], [0.3333333333333333, \"#9c179e\"], [0.4444444444444444, \"#bd3786\"], [0.5555555555555556, \"#d8576b\"], [0.6666666666666666, \"#ed7953\"], [0.7777777777777778, \"#fb9f3a\"], [0.8888888888888888, \"#fdca26\"], [1.0, \"#f0f921\"]], \"type\": \"histogram2dcontour\"}], \"mesh3d\": [{\"colorbar\": {\"outlinewidth\": 0, \"ticks\": \"\"}, \"type\": \"mesh3d\"}], \"parcoords\": [{\"line\": {\"colorbar\": {\"outlinewidth\": 0, \"ticks\": \"\"}}, \"type\": \"parcoords\"}], \"pie\": [{\"automargin\": true, \"type\": \"pie\"}], \"scatter\": [{\"marker\": {\"colorbar\": {\"outlinewidth\": 0, \"ticks\": \"\"}}, \"type\": \"scatter\"}], \"scatter3d\": [{\"line\": {\"colorbar\": {\"outlinewidth\": 0, \"ticks\": \"\"}}, \"marker\": {\"colorbar\": {\"outlinewidth\": 0, \"ticks\": \"\"}}, \"type\": \"scatter3d\"}], \"scattercarpet\": [{\"marker\": {\"colorbar\": {\"outlinewidth\": 0, \"ticks\": \"\"}}, \"type\": \"scattercarpet\"}], \"scattergeo\": [{\"marker\": {\"colorbar\": {\"outlinewidth\": 0, \"ticks\": \"\"}}, \"type\": \"scattergeo\"}], \"scattergl\": [{\"marker\": {\"colorbar\": {\"outlinewidth\": 0, \"ticks\": \"\"}}, \"type\": \"scattergl\"}], \"scattermapbox\": [{\"marker\": {\"colorbar\": {\"outlinewidth\": 0, \"ticks\": \"\"}}, \"type\": \"scattermapbox\"}], \"scatterpolar\": [{\"marker\": {\"colorbar\": {\"outlinewidth\": 0, \"ticks\": \"\"}}, \"type\": \"scatterpolar\"}], \"scatterpolargl\": [{\"marker\": {\"colorbar\": {\"outlinewidth\": 0, \"ticks\": \"\"}}, \"type\": \"scatterpolargl\"}], \"scatterternary\": [{\"marker\": {\"colorbar\": {\"outlinewidth\": 0, \"ticks\": \"\"}}, \"type\": \"scatterternary\"}], \"surface\": [{\"colorbar\": {\"outlinewidth\": 0, \"ticks\": \"\"}, \"colorscale\": [[0.0, \"#0d0887\"], [0.1111111111111111, \"#46039f\"], [0.2222222222222222, \"#7201a8\"], [0.3333333333333333, \"#9c179e\"], [0.4444444444444444, \"#bd3786\"], [0.5555555555555556, \"#d8576b\"], [0.6666666666666666, \"#ed7953\"], [0.7777777777777778, \"#fb9f3a\"], [0.8888888888888888, \"#fdca26\"], [1.0, \"#f0f921\"]], \"type\": \"surface\"}], \"table\": [{\"cells\": {\"fill\": {\"color\": \"#EBF0F8\"}, \"line\": {\"color\": \"white\"}}, \"header\": {\"fill\": {\"color\": \"#C8D4E3\"}, \"line\": {\"color\": \"white\"}}, \"type\": \"table\"}]}, \"layout\": {\"annotationdefaults\": {\"arrowcolor\": \"#2a3f5f\", \"arrowhead\": 0, \"arrowwidth\": 1}, \"coloraxis\": {\"colorbar\": {\"outlinewidth\": 0, \"ticks\": \"\"}}, \"colorscale\": {\"diverging\": [[0, \"#8e0152\"], [0.1, \"#c51b7d\"], [0.2, \"#de77ae\"], [0.3, \"#f1b6da\"], [0.4, \"#fde0ef\"], [0.5, \"#f7f7f7\"], [0.6, \"#e6f5d0\"], [0.7, \"#b8e186\"], [0.8, \"#7fbc41\"], [0.9, \"#4d9221\"], [1, \"#276419\"]], \"sequential\": [[0.0, \"#0d0887\"], [0.1111111111111111, \"#46039f\"], [0.2222222222222222, \"#7201a8\"], [0.3333333333333333, \"#9c179e\"], [0.4444444444444444, \"#bd3786\"], [0.5555555555555556, \"#d8576b\"], [0.6666666666666666, \"#ed7953\"], [0.7777777777777778, \"#fb9f3a\"], [0.8888888888888888, \"#fdca26\"], [1.0, \"#f0f921\"]], \"sequentialminus\": [[0.0, \"#0d0887\"], [0.1111111111111111, \"#46039f\"], [0.2222222222222222, \"#7201a8\"], [0.3333333333333333, \"#9c179e\"], [0.4444444444444444, \"#bd3786\"], [0.5555555555555556, \"#d8576b\"], [0.6666666666666666, \"#ed7953\"], [0.7777777777777778, \"#fb9f3a\"], [0.8888888888888888, \"#fdca26\"], [1.0, \"#f0f921\"]]}, \"colorway\": [\"#636efa\", \"#EF553B\", \"#00cc96\", \"#ab63fa\", \"#FFA15A\", \"#19d3f3\", \"#FF6692\", \"#B6E880\", \"#FF97FF\", \"#FECB52\"], \"font\": {\"color\": \"#2a3f5f\"}, \"geo\": {\"bgcolor\": \"white\", \"lakecolor\": \"white\", \"landcolor\": \"#E5ECF6\", \"showlakes\": true, \"showland\": true, \"subunitcolor\": \"white\"}, \"hoverlabel\": {\"align\": \"left\"}, \"hovermode\": \"closest\", \"mapbox\": {\"style\": \"light\"}, \"paper_bgcolor\": \"white\", \"plot_bgcolor\": \"#E5ECF6\", \"polar\": {\"angularaxis\": {\"gridcolor\": \"white\", \"linecolor\": \"white\", \"ticks\": \"\"}, \"bgcolor\": \"#E5ECF6\", \"radialaxis\": {\"gridcolor\": \"white\", \"linecolor\": \"white\", \"ticks\": \"\"}}, \"scene\": {\"xaxis\": {\"backgroundcolor\": \"#E5ECF6\", \"gridcolor\": \"white\", \"gridwidth\": 2, \"linecolor\": \"white\", \"showbackground\": true, \"ticks\": \"\", \"zerolinecolor\": \"white\"}, \"yaxis\": {\"backgroundcolor\": \"#E5ECF6\", \"gridcolor\": \"white\", \"gridwidth\": 2, \"linecolor\": \"white\", \"showbackground\": true, \"ticks\": \"\", \"zerolinecolor\": \"white\"}, \"zaxis\": {\"backgroundcolor\": \"#E5ECF6\", \"gridcolor\": \"white\", \"gridwidth\": 2, \"linecolor\": \"white\", \"showbackground\": true, \"ticks\": \"\", \"zerolinecolor\": \"white\"}}, \"shapedefaults\": {\"line\": {\"color\": \"#2a3f5f\"}}, \"ternary\": {\"aaxis\": {\"gridcolor\": \"white\", \"linecolor\": \"white\", \"ticks\": \"\"}, \"baxis\": {\"gridcolor\": \"white\", \"linecolor\": \"white\", \"ticks\": \"\"}, \"bgcolor\": \"#E5ECF6\", \"caxis\": {\"gridcolor\": \"white\", \"linecolor\": \"white\", \"ticks\": \"\"}}, \"title\": {\"x\": 0.05}, \"xaxis\": {\"automargin\": true, \"gridcolor\": \"white\", \"linecolor\": \"white\", \"ticks\": \"\", \"title\": {\"standoff\": 15}, \"zerolinecolor\": \"white\", \"zerolinewidth\": 2}, \"yaxis\": {\"automargin\": true, \"gridcolor\": \"white\", \"linecolor\": \"white\", \"ticks\": \"\", \"title\": {\"standoff\": 15}, \"zerolinecolor\": \"white\", \"zerolinewidth\": 2}}}, \"xaxis\": {\"range\": [null, null], \"ticktext\": [\"1M\", \"0.5M\", \"0\", \"0.5M\", \"1M\"], \"tickvals\": [-1000000, -500000, 0, 500000, 1000000], \"title\": {\"text\": \"Number\"}}, \"yaxis\": {\"title\": {\"text\": \"Age\"}}},\n",
       "                        {\"responsive\": true}\n",
       "                    ).then(function(){\n",
       "                            \n",
       "var gd = document.getElementById('93dde555-968e-4302-955e-361cad6c5944');\n",
       "var x = new MutationObserver(function (mutations, observer) {{\n",
       "        var display = window.getComputedStyle(gd).display;\n",
       "        if (!display || display === 'none') {{\n",
       "            console.log([gd, 'removed!']);\n",
       "            Plotly.purge(gd);\n",
       "            observer.disconnect();\n",
       "        }}\n",
       "}});\n",
       "\n",
       "// Listen for the removal of the full notebook cells\n",
       "var notebookContainer = gd.closest('#notebook-container');\n",
       "if (notebookContainer) {{\n",
       "    x.observe(notebookContainer, {childList: true});\n",
       "}}\n",
       "\n",
       "// Listen for the clearing of the current output cell\n",
       "var outputEl = gd.closest('.output');\n",
       "if (outputEl) {{\n",
       "    x.observe(outputEl, {childList: true});\n",
       "}}\n",
       "\n",
       "                        })\n",
       "                };\n",
       "                });\n",
       "            </script>\n",
       "        </div>"
      ]
     },
     "metadata": {},
     "output_type": "display_data"
    }
   ],
   "source": [
    "p_c1 = demo_c1[\"Value\"]\n",
    "p_c2 = demo_c2[\"Value\"]\n",
    "\n",
    "y = list(range(0, 100, 1))\n",
    "\n",
    "layout = go.Layout(yaxis=go.layout.YAxis(title='Age'),\n",
    "                   xaxis=go.layout.XAxis(\n",
    "                       range=[-(p_c1+p_c2).max(), (p_c1+p_c2).max()],\n",
    "                       tickvals=[-1000000, -500000, 0, 500000, 1000000],\n",
    "                       ticktext=[\"1M\", \"0.5M\", \"0\", \"0.5M\", \"1M\"],\n",
    "                       title='Number'),\n",
    "                   barmode='overlay',\n",
    "                   bargap=0.1)\n",
    "\n",
    "data = [go.Bar(y=y,\n",
    "               x=-p_c1,\n",
    "               orientation='h',\n",
    "               name=country1,\n",
    "               hoverinfo='x',\n",
    "               marker=dict(color='powderblue')\n",
    "               ),\n",
    "        go.Bar(y=y,\n",
    "               x=p_c2,\n",
    "               orientation='h',\n",
    "               name=country2,\n",
    "               text=-1 * p_c2.astype('int'),\n",
    "               hoverinfo='text',\n",
    "               marker=dict(color='seagreen')\n",
    "               )]\n",
    "\n",
    "fig = py.iplot(dict(data=data, layout=layout), filename='EXAMPLES/bar_pyramid')"
   ]
  },
  {
   "cell_type": "code",
   "execution_count": 228,
   "metadata": {},
   "outputs": [
    {
     "data": {
      "text/html": [
       "<div>\n",
       "<style scoped>\n",
       "    .dataframe tbody tr th:only-of-type {\n",
       "        vertical-align: middle;\n",
       "    }\n",
       "\n",
       "    .dataframe tbody tr th {\n",
       "        vertical-align: top;\n",
       "    }\n",
       "\n",
       "    .dataframe thead th {\n",
       "        text-align: right;\n",
       "    }\n",
       "</style>\n",
       "<table border=\"1\" class=\"dataframe\">\n",
       "  <thead>\n",
       "    <tr style=\"text-align: right;\">\n",
       "      <th></th>\n",
       "      <th>Country or Area</th>\n",
       "      <th>Year</th>\n",
       "      <th>Area</th>\n",
       "      <th>Sex</th>\n",
       "      <th>Age</th>\n",
       "      <th>Record Type</th>\n",
       "      <th>Reliability</th>\n",
       "      <th>Source Year</th>\n",
       "      <th>Value</th>\n",
       "      <th>Value Footnotes</th>\n",
       "    </tr>\n",
       "  </thead>\n",
       "  <tbody>\n",
       "    <tr>\n",
       "      <th>84054</th>\n",
       "      <td>Åland Islands</td>\n",
       "      <td>2018</td>\n",
       "      <td>Total</td>\n",
       "      <td>Both Sexes</td>\n",
       "      <td>0</td>\n",
       "      <td>Estimate - de jure</td>\n",
       "      <td>Final figure, complete</td>\n",
       "      <td>2019</td>\n",
       "      <td>287.5</td>\n",
       "      <td>1</td>\n",
       "    </tr>\n",
       "    <tr>\n",
       "      <th>84056</th>\n",
       "      <td>Åland Islands</td>\n",
       "      <td>2018</td>\n",
       "      <td>Total</td>\n",
       "      <td>Both Sexes</td>\n",
       "      <td>1</td>\n",
       "      <td>Estimate - de jure</td>\n",
       "      <td>Final figure, complete</td>\n",
       "      <td>2019</td>\n",
       "      <td>302.0</td>\n",
       "      <td>1</td>\n",
       "    </tr>\n",
       "    <tr>\n",
       "      <th>84058</th>\n",
       "      <td>Åland Islands</td>\n",
       "      <td>2018</td>\n",
       "      <td>Total</td>\n",
       "      <td>Both Sexes</td>\n",
       "      <td>2</td>\n",
       "      <td>Estimate - de jure</td>\n",
       "      <td>Final figure, complete</td>\n",
       "      <td>2019</td>\n",
       "      <td>320.0</td>\n",
       "      <td>1</td>\n",
       "    </tr>\n",
       "    <tr>\n",
       "      <th>84059</th>\n",
       "      <td>Åland Islands</td>\n",
       "      <td>2018</td>\n",
       "      <td>Total</td>\n",
       "      <td>Both Sexes</td>\n",
       "      <td>3</td>\n",
       "      <td>Estimate - de jure</td>\n",
       "      <td>Final figure, complete</td>\n",
       "      <td>2019</td>\n",
       "      <td>317.5</td>\n",
       "      <td>1</td>\n",
       "    </tr>\n",
       "    <tr>\n",
       "      <th>84060</th>\n",
       "      <td>Åland Islands</td>\n",
       "      <td>2018</td>\n",
       "      <td>Total</td>\n",
       "      <td>Both Sexes</td>\n",
       "      <td>4</td>\n",
       "      <td>Estimate - de jure</td>\n",
       "      <td>Final figure, complete</td>\n",
       "      <td>2019</td>\n",
       "      <td>330.0</td>\n",
       "      <td>1</td>\n",
       "    </tr>\n",
       "  </tbody>\n",
       "</table>\n",
       "</div>"
      ],
      "text/plain": [
       "      Country or Area  Year   Area         Sex  Age         Record Type  \\\n",
       "84054   Åland Islands  2018  Total  Both Sexes    0  Estimate - de jure   \n",
       "84056   Åland Islands  2018  Total  Both Sexes    1  Estimate - de jure   \n",
       "84058   Åland Islands  2018  Total  Both Sexes    2  Estimate - de jure   \n",
       "84059   Åland Islands  2018  Total  Both Sexes    3  Estimate - de jure   \n",
       "84060   Åland Islands  2018  Total  Both Sexes    4  Estimate - de jure   \n",
       "\n",
       "                  Reliability  Source Year  Value Value Footnotes  \n",
       "84054  Final figure, complete         2019  287.5               1  \n",
       "84056  Final figure, complete         2019  302.0               1  \n",
       "84058  Final figure, complete         2019  320.0               1  \n",
       "84059  Final figure, complete         2019  317.5               1  \n",
       "84060  Final figure, complete         2019  330.0               1  "
      ]
     },
     "execution_count": 228,
     "metadata": {},
     "output_type": "execute_result"
    }
   ],
   "source": [
    "demo.head()"
   ]
  },
  {
   "cell_type": "code",
   "execution_count": 230,
   "metadata": {},
   "outputs": [
    {
     "name": "stdout",
     "output_type": "stream",
     "text": [
      "Åland Islands\n",
      "Algeria\n",
      "Andorra\n",
      "Anguilla\n",
      "Argentina\n",
      "Armenia\n",
      "Aruba\n",
      "Australia\n",
      "Austria\n",
      "Azerbaijan\n",
      "Bahamas\n",
      "Bahrain\n",
      "Belarus\n",
      "Belgium\n",
      "Belize\n",
      "Bermuda\n",
      "Bolivia (Plurinational State of)\n",
      "Bosnia and Herzegovina\n",
      "Botswana\n",
      "Brazil\n",
      "Brunei Darussalam\n",
      "Bulgaria\n",
      "Burundi\n",
      "Cabo Verde\n",
      "Cambodia\n",
      "Canada\n",
      "Cayman Islands\n",
      "Chad\n",
      "Chile\n",
      "China\n",
      "China, Hong Kong SAR\n",
      "China, Macao SAR\n",
      "Congo\n",
      "Costa Rica\n",
      "Croatia\n",
      "Cuba\n",
      "Curaçao\n",
      "Cyprus\n",
      "Czechia\n",
      "Democratic People's Republic of Korea\n",
      "Denmark\n",
      "Dominican Republic\n",
      "Ecuador\n",
      "El Salvador\n",
      "Estonia\n",
      "Eswatini\n",
      "Ethiopia\n",
      "Faroe Islands\n",
      "Fiji\n",
      "Finland\n",
      "France\n",
      "French Polynesia\n",
      "Georgia\n",
      "Germany\n",
      "Ghana\n",
      "Gibraltar\n",
      "Greece\n",
      "Greenland\n",
      "Guernsey\n",
      "Guinea-Bissau\n",
      "Hungary\n",
      "Iceland\n",
      "India\n",
      "Indonesia\n",
      "Iran\n",
      "Ireland\n",
      "Isle of Man\n",
      "Israel\n",
      "Italy\n",
      "Jamaica\n",
      "Japan\n",
      "Jersey\n",
      "Kazakhstan\n",
      "Kenya\n",
      "Kiribati\n",
      "Kuwait\n",
      "Kyrgyzstan\n",
      "Latvia\n",
      "Liberia\n",
      "Liechtenstein\n",
      "Lithuania\n",
      "Luxembourg\n",
      "Malawi\n",
      "Malaysia\n",
      "Maldives\n",
      "Mali\n",
      "Malta\n",
      "Marshall Islands\n",
      "Mauritius\n",
      "Mayotte\n",
      "Mexico\n",
      "Micronesia (Federated States of)\n",
      "Mongolia\n",
      "Montenegro\n",
      "Montserrat\n",
      "Mozambique\n",
      "Namibia\n",
      "Nepal\n",
      "Netherlands\n",
      "New Zealand\n",
      "Niger\n",
      "North Macedonia\n",
      "Norway\n",
      "Peru\n",
      "Philippines\n",
      "Pitcairn\n",
      "Poland\n",
      "Portugal\n",
      "Puerto Rico\n",
      "Qatar\n",
      "South Korea\n",
      "Republic of Moldova\n",
      "Republic of South Sudan\n",
      "Romania\n",
      "Russian Federation\n",
      "Rwanda\n",
      "Saint Helena ex. dep.\n",
      "Saint Helena: Ascension\n",
      "Saint Vincent and the Grenadines\n",
      "Samoa\n",
      "San Marino\n",
      "Sao Tome and Principe\n",
      "Saudi Arabia\n",
      "Senegal\n",
      "Serbia\n",
      "Seychelles\n",
      "Singapore\n",
      "Sint Maarten (Dutch part)\n",
      "Slovakia\n",
      "Slovenia\n",
      "South Africa\n",
      "Spain\n",
      "Sri Lanka\n",
      "State of Palestine\n",
      "Suriname\n",
      "Sweden\n",
      "Switzerland\n",
      "Tajikistan\n",
      "Thailand\n",
      "Timor-Leste\n",
      "Togo\n",
      "Tokelau\n",
      "Tonga\n",
      "Trinidad and Tobago\n",
      "Turkey\n",
      "Ukraine\n",
      "United Kingdom\n",
      "United Republic of Tanzania\n",
      "US\n",
      "Uruguay\n",
      "Uzbekistan\n",
      "Vanuatu\n",
      "Venezuela\n",
      "Vietnam\n",
      "Zambia\n",
      "Zimbabwe\n",
      "Albania\n",
      "Angola\n",
      "Bhutan\n",
      "Côte d'Ivoire\n",
      "Egypt\n",
      "French Guiana\n",
      "Grenada\n",
      "Guadeloupe\n",
      "Guam\n",
      "Guinea\n",
      "Honduras\n",
      "Jordan\n",
      "Lao People's Democratic Republic\n",
      "Martinique\n",
      "Myanmar\n",
      "Niue\n",
      "Panama\n",
      "Reunion\n",
      "Saint Barthélemy\n",
      "Saint Pierre and Miquelon\n",
      "Saint-Martin (French part)\n",
      "Sudan\n",
      "Uganda\n"
     ]
    }
   ],
   "source": [
    "for c in demo[\"Country or Area\"].unique():\n",
    "    print(c)"
   ]
  },
  {
   "cell_type": "code",
   "execution_count": null,
   "metadata": {},
   "outputs": [],
   "source": []
  }
 ],
 "metadata": {
  "kernelspec": {
   "display_name": "Python 3",
   "language": "python",
   "name": "python3"
  },
  "language_info": {
   "codemirror_mode": {
    "name": "ipython",
    "version": 3
   },
   "file_extension": ".py",
   "mimetype": "text/x-python",
   "name": "python",
   "nbconvert_exporter": "python",
   "pygments_lexer": "ipython3",
   "version": "3.7.3"
  }
 },
 "nbformat": 4,
 "nbformat_minor": 4
}
